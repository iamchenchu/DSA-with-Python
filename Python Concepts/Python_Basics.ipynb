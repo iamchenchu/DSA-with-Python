{
 "cells": [
  {
   "cell_type": "markdown",
   "id": "474faa19-4932-4045-b7dd-51df9d41c6cf",
   "metadata": {},
   "source": [
    "### Numbers, Booleans, and Expressions"
   ]
  },
  {
   "cell_type": "code",
   "execution_count": 1,
   "id": "a72d60aa-76e2-42fe-a17e-c9c555f80c68",
   "metadata": {},
   "outputs": [
    {
     "name": "stdout",
     "output_type": "stream",
     "text": [
      "Hello World\n"
     ]
    }
   ],
   "source": [
    "print(\"Hello World\")"
   ]
  },
  {
   "cell_type": "code",
   "execution_count": 9,
   "id": "8e8e0ebf-e7df-4fe4-922e-a0f64732d20b",
   "metadata": {},
   "outputs": [
    {
     "name": "stdout",
     "output_type": "stream",
     "text": [
      "Name :Chenchu,\n",
      "          height : 5.1,\n",
      "          Age : 27,\n",
      "          is_student :False,\n",
      "          is_Employee :True\n"
     ]
    }
   ],
   "source": [
    "age = 27\n",
    "name = \"Chenchu\"\n",
    "height = 5.10\n",
    "is_student = False\n",
    "is_employee = True\n",
    "\n",
    "print(f\"\"\"Name :{name},\n",
    "          height : {height},\n",
    "          Age : {age},\n",
    "          is_student :{is_student},\n",
    "          is_Employee :{is_Employee}\"\"\")"
   ]
  },
  {
   "cell_type": "code",
   "execution_count": 10,
   "id": "14c55e44-8dac-47b2-9f11-605549636c53",
   "metadata": {},
   "outputs": [
    {
     "name": "stdout",
     "output_type": "stream",
     "text": [
      "[10, 20, 30, 2, 3, 4, 5]\n",
      "(10, 20)\n",
      "{'name': 'Bob', 'Age': 30}\n",
      "{1, 2, 4, 6}\n"
     ]
    }
   ],
   "source": [
    "numbers = [10, 20, 30, 2, 3, 4, 5] # List\n",
    "coordinates = (10, 20) # tuple\n",
    "person = {\"name\": \"Bob\", \"Age\":30} # Dict\n",
    "unique_nums = {1, 2, 4, 6} # Set\n",
    "\n",
    "\n",
    "print(numbers)\n",
    "print(coordinates)\n",
    "print(person)\n",
    "print(unique_nums)"
   ]
  },
  {
   "cell_type": "code",
   "execution_count": 12,
   "id": "88b7215a-7677-443a-897f-3014837bea60",
   "metadata": {},
   "outputs": [
    {
     "name": "stdout",
     "output_type": "stream",
     "text": [
      "42\n",
      "42\n",
      "<class 'int'>\n"
     ]
    }
   ],
   "source": [
    "str_num = \"42\"\n",
    "int_num = int(str_num)\n",
    "print(int_num)\n",
    "print(str_num)\n",
    "print(type(int_num))"
   ]
  },
  {
   "cell_type": "markdown",
   "id": "3f61f789-c7a9-4981-961f-92346f554358",
   "metadata": {},
   "source": [
    "### Control Flow"
   ]
  },
  {
   "cell_type": "code",
   "execution_count": 14,
   "id": "a7d57920-5bf5-4a50-b162-0c427edd209f",
   "metadata": {},
   "outputs": [
    {
     "name": "stdout",
     "output_type": "stream",
     "text": [
      "B Grade\n"
     ]
    }
   ],
   "source": [
    "# Conditions\n",
    "score = 85\n",
    "if score >= 90:\n",
    "    print(\"A Grade\")\n",
    "elif score >= 80:\n",
    "    print(\"B Grade\")\n",
    "else:\n",
    "    print(\"C Grade\")"
   ]
  },
  {
   "cell_type": "code",
   "execution_count": 15,
   "id": "37e6e689-77f7-4ea4-b34a-fcb752a3edca",
   "metadata": {},
   "outputs": [
    {
     "name": "stdout",
     "output_type": "stream",
     "text": [
      "I like apple, and I eat them every week\n",
      "I like banana, and I eat them every week\n",
      "I like orange, and I eat them every week\n"
     ]
    }
   ],
   "source": [
    "# Loops \n",
    "fruits = [\"apple\", \"banana\", \"orange\"]\n",
    "for fruit in fruits:\n",
    "    print(f\"I like {fruit}, and I eat them every week\")"
   ]
  },
  {
   "cell_type": "code",
   "execution_count": 17,
   "id": "069ea113-dc84-471a-8638-3ed23e7c79fd",
   "metadata": {},
   "outputs": [
    {
     "name": "stdout",
     "output_type": "stream",
     "text": [
      "0\n",
      "1\n",
      "2\n",
      "3\n",
      "4\n",
      "5\n",
      "6\n",
      "7\n",
      "8\n",
      "9\n",
      "10\n"
     ]
    }
   ],
   "source": [
    "#while loop \n",
    "count = 0\n",
    "while count <= 10:\n",
    "    print(count)\n",
    "    count +=1"
   ]
  },
  {
   "cell_type": "code",
   "execution_count": 18,
   "id": "780f05a3-62e0-41f3-aaca-1daf9fc641f8",
   "metadata": {},
   "outputs": [
    {
     "name": "stdout",
     "output_type": "stream",
     "text": [
      "[0, 1, 4, 9, 16, 25, 36, 49, 64, 81]\n",
      "[0, 4, 16, 36, 64]\n"
     ]
    }
   ],
   "source": [
    "# List comprehension\n",
    "squares = [x**2 for x in range(10)]\n",
    "print(squares)\n",
    "even_squares = [x**2 for x in range(10) if x%2 ==0]\n",
    "print(even_squares)\n"
   ]
  },
  {
   "cell_type": "code",
   "execution_count": 19,
   "id": "8f9ff28d-be28-47c7-bb27-620fdd7270ef",
   "metadata": {},
   "outputs": [
    {
     "name": "stdout",
     "output_type": "stream",
     "text": [
      "[1, 2, 3, 4, 5, 6]\n"
     ]
    }
   ],
   "source": [
    "numbers = [1, 2,  3, 4, 5, 6]\n",
    "squares = [num**2 for num in numbers]\n",
    "print(numbers)"
   ]
  },
  {
   "cell_type": "code",
   "execution_count": 20,
   "id": "742b1335-fa1d-4352-80dd-bf0218b31d2e",
   "metadata": {},
   "outputs": [
    {
     "name": "stdout",
     "output_type": "stream",
     "text": [
      "['apple', 'banana', 'mango']\n"
     ]
    }
   ],
   "source": [
    "fruits = [\"apple\", \"banana\", \"cherry\", \"kiwi\", \"mango\"]\n",
    "fruits_with_a = [fruit for fruit in fruits if \"a\" in fruit]\n",
    "print(fruits_with_a)"
   ]
  },
  {
   "cell_type": "code",
   "execution_count": 22,
   "id": "85d10db5-a9f2-49c7-98cb-c112a7476ea3",
   "metadata": {},
   "outputs": [
    {
     "name": "stdout",
     "output_type": "stream",
     "text": [
      "['Odd', 'Even', 'Odd', 'Even', 'Odd', 'Even']\n"
     ]
    }
   ],
   "source": [
    "numbers = [1, 2, 3, 4, 5, 6]\n",
    "even_odd = [\"Even\" if num % 2 == 0 else \"Odd\" for num in numbers]\n",
    "print(even_odd)"
   ]
  },
  {
   "cell_type": "code",
   "execution_count": 26,
   "id": "00f7860a-7a95-4ec1-9d18-28c6f19e32aa",
   "metadata": {},
   "outputs": [
    {
     "name": "stdout",
     "output_type": "stream",
     "text": [
      "[0, 10, 20, 30, 40, 50, 60, 70, 80, 90]\n"
     ]
    }
   ],
   "source": [
    "numbers = range(100)\n",
    "filtered = [n for n in numbers if n % 2 == 0 and n % 5 == 0]\n",
    "print(filtered)"
   ]
  },
  {
   "cell_type": "markdown",
   "id": "1a6c7dc5-5e51-4b76-8d1f-82fb25bfff33",
   "metadata": {},
   "source": [
    "### Machine Learning (ML) Examples"
   ]
  },
  {
   "cell_type": "code",
   "execution_count": 27,
   "id": "077a0ab2-b491-4119-969a-36411b70b0b7",
   "metadata": {},
   "outputs": [
    {
     "name": "stdout",
     "output_type": "stream",
     "text": [
      "[1, 15, 18, 19, 3, 4]\n"
     ]
    }
   ],
   "source": [
    "data = [1, 15, 18, 102, 19, 3, 4]\n",
    "filtered = [x for x in data if x < 20]\n",
    "\n",
    "print(filtered)"
   ]
  },
  {
   "cell_type": "code",
   "execution_count": 28,
   "id": "e9a6f842-54d7-4293-bfeb-1feb14758f01",
   "metadata": {},
   "outputs": [
    {
     "name": "stdout",
     "output_type": "stream",
     "text": [
      "[22, 31, 18, 28, 8, 12]\n"
     ]
    }
   ],
   "source": [
    "# Extracting Feature Values\n",
    "dataset = [{'age': 22}, {'age': 31}, {'age': 18}, {'age': 28}, {'age': 8}, {'age': 12}]\n",
    "ages = [row['age'] for row in dataset]\n",
    "print(ages)"
   ]
  },
  {
   "cell_type": "code",
   "execution_count": 29,
   "id": "81c34394-e58e-40da-85e3-b55146ae9703",
   "metadata": {},
   "outputs": [
    {
     "name": "stdout",
     "output_type": "stream",
     "text": [
      "[5.0, 6.0, 4.75]\n"
     ]
    }
   ],
   "source": [
    "# Scaling Features\n",
    "scores = [100, 120, 95]\n",
    "scaled = [score/20 for score in scores]\n",
    "print(scaled)"
   ]
  },
  {
   "cell_type": "code",
   "execution_count": 30,
   "id": "ae839e68-98d2-408e-838f-a26de48e919e",
   "metadata": {},
   "outputs": [
    {
     "name": "stdout",
     "output_type": "stream",
     "text": [
      "[1, 0, 1, 0]\n"
     ]
    }
   ],
   "source": [
    "# Label Encoding \n",
    "labels = ['cat', 'dog', 'cat', 'mouse']\n",
    "encoded = [1 if label == 'cat' else 0 for label in labels]\n",
    "print(encoded)"
   ]
  },
  {
   "cell_type": "code",
   "execution_count": 31,
   "id": "a850de53-04d0-4435-89d1-38a7466490ef",
   "metadata": {},
   "outputs": [
    {
     "name": "stdout",
     "output_type": "stream",
     "text": [
      "[1, 2, 3, 4, 5, 6]\n"
     ]
    }
   ],
   "source": [
    "#Flattening Features\n",
    "features = [[1, 2], [3, 4], [5, 6]]\n",
    "flat = [item for sublist in features for item in sublist]\n",
    "print(flat)"
   ]
  },
  {
   "cell_type": "code",
   "execution_count": 33,
   "id": "590930cd-7559-4db2-a636-34c8e624b823",
   "metadata": {},
   "outputs": [
    {
     "name": "stdout",
     "output_type": "stream",
     "text": [
      "[[0, 1], [1, 0], [0, 1]]\n"
     ]
    }
   ],
   "source": [
    "# One Hot Encoding \n",
    "categories = ['A', 'B', 'A']\n",
    "unique = list(set(categories))\n",
    "encoded = [[1 if cat == item else 0 for item in unique] for cat in categories]\n",
    "print(encoded)"
   ]
  },
  {
   "cell_type": "code",
   "execution_count": null,
   "id": "9b3a8f68-3a21-4ac7-bb05-643ca75a425e",
   "metadata": {},
   "outputs": [],
   "source": []
  }
 ],
 "metadata": {
  "kernelspec": {
   "display_name": "Python 3 (ipykernel)",
   "language": "python",
   "name": "python3"
  },
  "language_info": {
   "codemirror_mode": {
    "name": "ipython",
    "version": 3
   },
   "file_extension": ".py",
   "mimetype": "text/x-python",
   "name": "python",
   "nbconvert_exporter": "python",
   "pygments_lexer": "ipython3",
   "version": "3.8.18"
  }
 },
 "nbformat": 4,
 "nbformat_minor": 5
}
