{
 "cells": [
  {
   "cell_type": "markdown",
   "id": "474faa19-4932-4045-b7dd-51df9d41c6cf",
   "metadata": {},
   "source": [
    "### Concept 1 — Numbers, Booleans, and Expressions"
   ]
  },
  {
   "cell_type": "code",
   "execution_count": 1,
   "id": "a72d60aa-76e2-42fe-a17e-c9c555f80c68",
   "metadata": {},
   "outputs": [
    {
     "name": "stdout",
     "output_type": "stream",
     "text": [
      "Hello World\n"
     ]
    }
   ],
   "source": [
    "print(\"Hello World\")"
   ]
  },
  {
   "cell_type": "code",
   "execution_count": 9,
   "id": "8e8e0ebf-e7df-4fe4-922e-a0f64732d20b",
   "metadata": {},
   "outputs": [
    {
     "name": "stdout",
     "output_type": "stream",
     "text": [
      "Name :Chenchu,\n",
      "          height : 5.1,\n",
      "          Age : 27,\n",
      "          is_student :False,\n",
      "          is_Employee :True\n"
     ]
    }
   ],
   "source": [
    "age = 27\n",
    "name = \"Chenchu\"\n",
    "height = 5.10\n",
    "is_student = False\n",
    "is_employee = True\n",
    "\n",
    "print(f\"\"\"Name :{name},\n",
    "          height : {height},\n",
    "          Age : {age},\n",
    "          is_student :{is_student},\n",
    "          is_Employee :{is_Employee}\"\"\")"
   ]
  },
  {
   "cell_type": "code",
   "execution_count": 10,
   "id": "14c55e44-8dac-47b2-9f11-605549636c53",
   "metadata": {},
   "outputs": [
    {
     "name": "stdout",
     "output_type": "stream",
     "text": [
      "[10, 20, 30, 2, 3, 4, 5]\n",
      "(10, 20)\n",
      "{'name': 'Bob', 'Age': 30}\n",
      "{1, 2, 4, 6}\n"
     ]
    }
   ],
   "source": [
    "numbers = [10, 20, 30, 2, 3, 4, 5] # List\n",
    "coordinates = (10, 20) # tuple\n",
    "person = {\"name\": \"Bob\", \"Age\":30} # Dict\n",
    "unique_nums = {1, 2, 4, 6} # Set\n",
    "\n",
    "\n",
    "print(numbers)\n",
    "print(coordinates)\n",
    "print(person)\n",
    "print(unique_nums)"
   ]
  },
  {
   "cell_type": "code",
   "execution_count": 12,
   "id": "88b7215a-7677-443a-897f-3014837bea60",
   "metadata": {},
   "outputs": [
    {
     "name": "stdout",
     "output_type": "stream",
     "text": [
      "42\n",
      "42\n",
      "<class 'int'>\n"
     ]
    }
   ],
   "source": [
    "str_num = \"42\"\n",
    "int_num = int(str_num)\n",
    "print(int_num)\n",
    "print(str_num)\n",
    "print(type(int_num))"
   ]
  },
  {
   "cell_type": "markdown",
   "id": "3f61f789-c7a9-4981-961f-92346f554358",
   "metadata": {},
   "source": [
    "### Control Flow"
   ]
  },
  {
   "cell_type": "code",
   "execution_count": 14,
   "id": "a7d57920-5bf5-4a50-b162-0c427edd209f",
   "metadata": {},
   "outputs": [
    {
     "name": "stdout",
     "output_type": "stream",
     "text": [
      "B Grade\n"
     ]
    }
   ],
   "source": [
    "# Conditions\n",
    "score = 85\n",
    "if score >= 90:\n",
    "    print(\"A Grade\")\n",
    "elif score >= 80:\n",
    "    print(\"B Grade\")\n",
    "else:\n",
    "    print(\"C Grade\")"
   ]
  },
  {
   "cell_type": "code",
   "execution_count": 15,
   "id": "37e6e689-77f7-4ea4-b34a-fcb752a3edca",
   "metadata": {},
   "outputs": [
    {
     "name": "stdout",
     "output_type": "stream",
     "text": [
      "I like apple, and I eat them every week\n",
      "I like banana, and I eat them every week\n",
      "I like orange, and I eat them every week\n"
     ]
    }
   ],
   "source": [
    "# Loops \n",
    "fruits = [\"apple\", \"banana\", \"orange\"]\n",
    "for fruit in fruits:\n",
    "    print(f\"I like {fruit}, and I eat them every week\")"
   ]
  },
  {
   "cell_type": "code",
   "execution_count": 17,
   "id": "069ea113-dc84-471a-8638-3ed23e7c79fd",
   "metadata": {},
   "outputs": [
    {
     "name": "stdout",
     "output_type": "stream",
     "text": [
      "0\n",
      "1\n",
      "2\n",
      "3\n",
      "4\n",
      "5\n",
      "6\n",
      "7\n",
      "8\n",
      "9\n",
      "10\n"
     ]
    }
   ],
   "source": [
    "#while loop \n",
    "count = 0\n",
    "while count <= 10:\n",
    "    print(count)\n",
    "    count +=1"
   ]
  },
  {
   "cell_type": "code",
   "execution_count": 18,
   "id": "780f05a3-62e0-41f3-aaca-1daf9fc641f8",
   "metadata": {},
   "outputs": [
    {
     "name": "stdout",
     "output_type": "stream",
     "text": [
      "[0, 1, 4, 9, 16, 25, 36, 49, 64, 81]\n",
      "[0, 4, 16, 36, 64]\n"
     ]
    }
   ],
   "source": [
    "# List comprehension\n",
    "squares = [x**2 for x in range(10)]\n",
    "print(squares)\n",
    "even_squares = [x**2 for x in range(10) if x%2 ==0]\n",
    "print(even_squares)\n"
   ]
  },
  {
   "cell_type": "code",
   "execution_count": 19,
   "id": "8f9ff28d-be28-47c7-bb27-620fdd7270ef",
   "metadata": {},
   "outputs": [
    {
     "name": "stdout",
     "output_type": "stream",
     "text": [
      "[1, 2, 3, 4, 5, 6]\n"
     ]
    }
   ],
   "source": [
    "numbers = [1, 2,  3, 4, 5, 6]\n",
    "squares = [num**2 for num in numbers]\n",
    "print(numbers)"
   ]
  },
  {
   "cell_type": "code",
   "execution_count": 20,
   "id": "742b1335-fa1d-4352-80dd-bf0218b31d2e",
   "metadata": {},
   "outputs": [
    {
     "name": "stdout",
     "output_type": "stream",
     "text": [
      "['apple', 'banana', 'mango']\n"
     ]
    }
   ],
   "source": [
    "fruits = [\"apple\", \"banana\", \"cherry\", \"kiwi\", \"mango\"]\n",
    "fruits_with_a = [fruit for fruit in fruits if \"a\" in fruit]\n",
    "print(fruits_with_a)"
   ]
  },
  {
   "cell_type": "code",
   "execution_count": 22,
   "id": "85d10db5-a9f2-49c7-98cb-c112a7476ea3",
   "metadata": {},
   "outputs": [
    {
     "name": "stdout",
     "output_type": "stream",
     "text": [
      "['Odd', 'Even', 'Odd', 'Even', 'Odd', 'Even']\n"
     ]
    }
   ],
   "source": [
    "numbers = [1, 2, 3, 4, 5, 6]\n",
    "even_odd = [\"Even\" if num % 2 == 0 else \"Odd\" for num in numbers]\n",
    "print(even_odd)"
   ]
  },
  {
   "cell_type": "code",
   "execution_count": 26,
   "id": "00f7860a-7a95-4ec1-9d18-28c6f19e32aa",
   "metadata": {},
   "outputs": [
    {
     "name": "stdout",
     "output_type": "stream",
     "text": [
      "[0, 10, 20, 30, 40, 50, 60, 70, 80, 90]\n"
     ]
    }
   ],
   "source": [
    "numbers = range(100)\n",
    "filtered = [n for n in numbers if n % 2 == 0 and n % 5 == 0]\n",
    "print(filtered)"
   ]
  },
  {
   "cell_type": "code",
   "execution_count": null,
   "id": "d2676266-8a08-441a-9d5f-f2565e49e0e1",
   "metadata": {},
   "outputs": [],
   "source": []
  }
 ],
 "metadata": {
  "kernelspec": {
   "display_name": "Python 3 (ipykernel)",
   "language": "python",
   "name": "python3"
  },
  "language_info": {
   "codemirror_mode": {
    "name": "ipython",
    "version": 3
   },
   "file_extension": ".py",
   "mimetype": "text/x-python",
   "name": "python",
   "nbconvert_exporter": "python",
   "pygments_lexer": "ipython3",
   "version": "3.8.18"
  }
 },
 "nbformat": 4,
 "nbformat_minor": 5
}
