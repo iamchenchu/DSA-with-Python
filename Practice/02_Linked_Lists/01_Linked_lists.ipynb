{
 "cells": [
  {
   "cell_type": "markdown",
   "id": "777774d1-f95b-4d4a-861e-81127904fe75",
   "metadata": {},
   "source": [
    "### Linked Lists in Python\n",
    "`1. Arrays:` An array is a collection of elements, each identified by an index or key. The elements are stored in contiguous memory locations, which means they are stored sequentially in the computer's memory. This allows for quick access to any element using its index.\n",
    "\n",
    "`2. Linked Lists:` A linked list, on the other hand, is a collection of elements called nodes. Each node contains two parts: the data and a reference (or link) to the next node in the sequence. Unlike arrays, linked lists do not require contiguous memory locations. Instead, each element points to the next element, creating a chain of nodes.\n",
    "\n",
    "__Why Use Linked Lists Instead of Arrays?__\n",
    "\n",
    "Arrays are fixed in size once created. This means you need to define the size of the array beforehand, which can be a limitation if you are unsure of the number of elements you'll need. Also, resizing an array (to accommodate more elements) involves creating a new array and copying all the elements from the old array to the new one, which can be inefficient.\n",
    "\n",
    "__Linked lists, however, provide several advantages over arrays:__\n",
    "\n",
    "1. `Dynamic Size:` Linked lists can grow and shrink in size dynamically. This means you do not need to know the number of elements in advance.\n",
    "2. `Efficient Insertions/Deletions:` Inserting or deleting an element in a linked list is more efficient compared to an array, especially when dealing with large datasets. This is because, in linked lists, you only need to update the links, whereas, in arrays, you may need to shift elements.\n",
    "   \n",
    "__Types of Linked Lists:__\n",
    "* `Singly Linked List:` Each node points to the next node and the last node points to None.\n",
    "* `Doubly Linked List:` Each node points to both the next node and the previous node.\n",
    "* `Circular Linked List:` The last node points back to the first node, forming a circle.\n",
    "\n",
    "__Time and Space Complexity:__\n",
    "\n",
    "* `Appending a Node:`\n",
    "    * Time Complexity: O(n), where n is the number of nodes in the list. This is because you need to traverse the entire list to find the last node.\n",
    "    * Space Complexity: O(1), since no extra space is required.\n",
    "* `Prepending a Node:`\n",
    "    * Time Complexity: O(1), as you only need to update the head of the list.\n",
    "    * Space Complexity: O(1), since no extra space is required.\n",
    "* `Deleting a Node:`\n",
    "    * Time Complexity: O(n), where n is the number of nodes in the list. You may need to traverse the entire list to find the node to delete.\n",
    "    * Space Complexity: O(1), since no extra space is required."
   ]
  },
  {
   "cell_type": "markdown",
   "id": "c402d0a8-3b0a-48fe-97f0-d282c3b36739",
   "metadata": {},
   "source": [
    "### Excercise 1 : Implementing the linked list\n",
    "\n",
    "In this notebook we'll get some practice implementing a basic linked list—something like this:  \n",
    "\n",
    "<img style=\"float: left;\" src=\"assets/linked_list_head_none.png\" alt=\"Linked list with nodes 2 at the head, followed by 1, 4, 3, and 5.\" >"
   ]
  },
  {
   "cell_type": "markdown",
   "id": "c9d2a9e9-29bb-4730-bfac-912ab359062d",
   "metadata": {},
   "source": [
    "#### Implementation steps:\n",
    "* Create a `Node` class with `value` and `next` attributes\n",
    "* Use the class to create the `head` node with the value `2`\n",
    "* Create and link a second node containing the value `1`\n",
    "* Try printing the values (`1` and `2`) on the nodes you created (to make sure that you can access them!)"
   ]
  },
  {
   "cell_type": "code",
   "execution_count": 3,
   "id": "33456589-b7b9-45c9-b200-d7377648e4c2",
   "metadata": {},
   "outputs": [
    {
     "name": "stdout",
     "output_type": "stream",
     "text": [
      "2\n",
      "1\n",
      "None\n"
     ]
    }
   ],
   "source": [
    "class Node:\n",
    "    def __init__(self, value):\n",
    "        self.value = value\n",
    "        self.next = None\n",
    "\n",
    "\n",
    "head = Node(2)\n",
    "head.next = Node(1)\n",
    "\n",
    "print(head.value)\n",
    "print(head.next.value)\n",
    "print(head.next.next)"
   ]
  },
  {
   "cell_type": "markdown",
   "id": "0ae5e9d5-cae1-4437-b038-60edc3f8a287",
   "metadata": {},
   "source": [
    "At this point, our linked list looks like this:  \n",
    "​\n",
    "<img style=\"float: left;\" src=\"assets/linked_list_two_nodes.png\" alt=\"Linked list with head node of 2, followed by 1.\">"
   ]
  },
  {
   "cell_type": "markdown",
   "id": "efb71a50-23e1-4a46-bb76-20fab572dbc1",
   "metadata": {},
   "source": [
    "Our goal is to extend the list until it looks like this:\n",
    "\n",
    "<img style=\"float: left;\" src=\"assets/linked_list_head_none.png\" alt=\"Linked list with head node of 2, followed by 1, 4, 3, and 5.\">"
   ]
  },
  {
   "cell_type": "code",
   "execution_count": 4,
   "id": "9b9f943c-8ece-4266-bc99-f6de0840487a",
   "metadata": {},
   "outputs": [],
   "source": [
    "class Node:\n",
    "    def __init__(self, value):\n",
    "        self.value = value\n",
    "        self.next = None\n",
    "\n",
    "\n",
    "head = Node(2)\n",
    "head.next = Node(1)\n",
    "head.next.next = Node(4)\n",
    "head.next.next.next = Node(3)\n",
    "head.next.next.next.next = Node(5)"
   ]
  },
  {
   "cell_type": "code",
   "execution_count": 11,
   "id": "5d2a2fd7-dead-44f8-8da3-f21d5fdcae76",
   "metadata": {},
   "outputs": [
    {
     "name": "stdout",
     "output_type": "stream",
     "text": [
      "2\n",
      "<__main__.Node object at 0x106d34c40>\n",
      "1\n",
      "<__main__.Node object at 0x106d343a0>\n",
      "4\n",
      "<__main__.Node object at 0x106d670a0>\n",
      "3\n",
      "5\n"
     ]
    }
   ],
   "source": [
    "# Access the elements\n",
    "print(head.value)\n",
    "print(head.next)\n",
    "print(head.next.value)\n",
    "print(head.next.next)\n",
    "print(head.next.next.value)\n",
    "print(head.next.next.next)\n",
    "print(head.next.next.next.value)\n",
    "print(head.next.next.next.next.value)"
   ]
  },
  {
   "cell_type": "markdown",
   "id": "054afb4c-e8b5-4b83-8050-38734fff1e90",
   "metadata": {},
   "source": [
    "### Excercise 2 : Traversing the list \n",
    "\n",
    "We successfully created a simple linked list. But printing all the values like we did above was pretty tedious. What if we had a list with 1,000 nodes? \n",
    "Let's see how we might traverse the list and print all the values, no matter how long it might be."
   ]
  },
  {
   "cell_type": "code",
   "execution_count": 13,
   "id": "efb24a48-4128-43d3-90ad-cda92ec5fb52",
   "metadata": {},
   "outputs": [
    {
     "name": "stdout",
     "output_type": "stream",
     "text": [
      "2\n",
      "1\n",
      "4\n",
      "3\n",
      "5\n"
     ]
    }
   ],
   "source": [
    "def print_linkedlist(node):\n",
    "    current_node = node\n",
    "    while current_node is not None:\n",
    "        print(current_node.value)\n",
    "        current_node = current_node.next\n",
    "\n",
    "print_linkedlist(head)"
   ]
  },
  {
   "cell_type": "markdown",
   "id": "20246550-a2e2-4e3e-bbeb-d9a0e245d736",
   "metadata": {},
   "source": [
    "### Creating a linked list using iteration\n",
    "\n",
    "Previously, we created a linked list using a very manual and tedious method. We called `next` multiple times on our `head` node. \n",
    "\n",
    "Now that we know about iterating over or traversing the linked list, is there a way we can use that to create a linked list?\n",
    "\n",
    "We've provided our solution below—but it might be a good exercise to see what you can come up with first. Here's the goal:\n",
    "\n",
    "See if you can write the code for the `create_linked_list` function below\n",
    "* The function should take a Python list of values as input and return the `head` of a linked list that has those values\n",
    "* There's some test code, and also a solution, below—give it a try for yourself first, but don't hesitate to look over the solution if you get stuck"
   ]
  },
  {
   "cell_type": "code",
   "execution_count": 22,
   "id": "6972c3e7-1bb2-47da-a42a-fef6832f5443",
   "metadata": {},
   "outputs": [
    {
     "name": "stdout",
     "output_type": "stream",
     "text": [
      "<__main__.Node object at 0x108688880>\n"
     ]
    }
   ],
   "source": [
    "class Node:\n",
    "    def __init__(self, value, next=None):\n",
    "        self.value = value\n",
    "        self.next = None\n",
    "\n",
    "    \n",
    "def create_linked_list(input_list):\n",
    "    head = None \n",
    "    for val in input_list:\n",
    "        if head == None:\n",
    "            head = Node(val)\n",
    "        else:\n",
    "            current_node = head\n",
    "            while current_node.next: # Here we will traverse until we find the tails so it's consuming more time, but this is good for understanding \n",
    "                current_node = current_node.next\n",
    "                current_node = Node(val)\n",
    "    return head\n",
    "\n",
    "list = [3, 4, 5, 6, 9]\n",
    "print(create_linked_list(list))"
   ]
  },
  {
   "cell_type": "code",
   "execution_count": 25,
   "id": "f81960e6-31ea-4f3a-a192-0747fd5d3131",
   "metadata": {},
   "outputs": [
    {
     "name": "stdout",
     "output_type": "stream",
     "text": [
      "<__main__.Node object at 0x106d34310>\n"
     ]
    }
   ],
   "source": [
    "# we have better solution than the above one, this will not waste time at the while loop, instead it will use the extra reference called tail\n",
    "def create_linked_list(input_list):\n",
    "    head = None \n",
    "    tail = None \n",
    "    for val in input_list:\n",
    "        if head == None:\n",
    "            head = Node(val)\n",
    "            tail = head\n",
    "        else:\n",
    "            tail.next = Node(val)\n",
    "            tail = tail.next\n",
    "    return head\n",
    "\n",
    "list = [3, 4, 5, 6, 9]\n",
    "print(create_linked_list(list))"
   ]
  },
  {
   "cell_type": "markdown",
   "id": "ed1a6761-cf1b-4e92-949a-96c8d0e58b8b",
   "metadata": {},
   "source": [
    "Now, we'll explore three versions of linked-lists: singly-linked lists, doubly-linked lists, and circular lists.\n",
    "\n",
    "#### Singly Linked Lists :\n",
    "In this linked list, each node in the list is connected only to the next node in the list. \n",
    "\n",
    "![Singly Linked List](assets/singly_linked_list.png)\n",
    "\n",
    "This connection is typically implemented by setting the `next` attribute on a node object itself.\n",
    "\n",
    "\n",
    "Above we have a simple linked list with few element. Usually you'll want to create a `LinkedList` class as a wrapper for the nodes themselves and to provide common methods that operate on the list. For example you can implement an `append` method that adds a value to the end of the list. Note that if we're only tracking the head of the list, this runs in linear time - $O(N)$ - since you have to iterate through the entire list to get to the tail node. However, prepending (adding to the head of the list) can be done in constant $O(1)$ time.\n"
   ]
  },
  {
   "cell_type": "code",
   "execution_count": 30,
   "id": "69335888-282c-4d47-99eb-a79296f4de32",
   "metadata": {},
   "outputs": [
    {
     "name": "stdout",
     "output_type": "stream",
     "text": [
      "120\n"
     ]
    }
   ],
   "source": []
  },
  {
   "cell_type": "code",
   "execution_count": null,
   "id": "551cd943-4876-4fe8-b36a-e8473141a92e",
   "metadata": {},
   "outputs": [],
   "source": []
  }
 ],
 "metadata": {
  "kernelspec": {
   "display_name": "Python 3 (ipykernel)",
   "language": "python",
   "name": "python3"
  },
  "language_info": {
   "codemirror_mode": {
    "name": "ipython",
    "version": 3
   },
   "file_extension": ".py",
   "mimetype": "text/x-python",
   "name": "python",
   "nbconvert_exporter": "python",
   "pygments_lexer": "ipython3",
   "version": "3.8.18"
  }
 },
 "nbformat": 4,
 "nbformat_minor": 5
}
