{
 "cells": [
  {
   "cell_type": "markdown",
   "id": "4bd96c87-4272-4a55-b485-8db4de56684d",
   "metadata": {},
   "source": [
    "##### 1.Let us say your expense for every month are listed below,\n",
    "\n",
    "   `January - 2200\n",
    "    February - 2350\n",
    "    March - 2600\n",
    "    April - 2130\n",
    "    May - 2190`\n",
    "    \n",
    "##### Create a list to store these monthly expenses and using that find out\n",
    "\n",
    " 1. In Feb, how many dollars you spent extra compare to January?\n",
    " 2. Find out your total expense in first quarter (first three months) of the year.\n",
    " 3. Find out if you spent exactly 2000 dollars in any month\n",
    " 4. June month just finished and your expense is 1980 dollar. Add this item to our monthly expense list\n",
    " 5. You returned an item that you bought in a month of April and got a refund of 200$. Make a correction to your monthly expense list based on this"
   ]
  },
  {
   "cell_type": "code",
   "execution_count": 2,
   "id": "e7ddf264-0b78-4abb-844b-cb7f0cfb8d05",
   "metadata": {},
   "outputs": [],
   "source": [
    "expenses = {\n",
    "    \"January\" : 2200,\n",
    "    \"February\" : 2350,\n",
    "    \"March\" : 2600,\n",
    "    \"April\":2130,\n",
    "    \"May\" : 2190\n",
    "}"
   ]
  },
  {
   "cell_type": "code",
   "execution_count": 18,
   "id": "40a6190d-99d1-43fc-abea-e24c7cd34e83",
   "metadata": {},
   "outputs": [
    {
     "name": "stdout",
     "output_type": "stream",
     "text": [
      "150\n"
     ]
    }
   ],
   "source": [
    "# 1. In Feb, how many dollars you spent extra compare to January?\n",
    "\n",
    "print(expenses[\"February\"]- expenses[\"January\"])"
   ]
  },
  {
   "cell_type": "code",
   "execution_count": 19,
   "id": "7ac65978-9a56-4ea6-9e89-a24fe0243b7e",
   "metadata": {},
   "outputs": [
    {
     "name": "stdout",
     "output_type": "stream",
     "text": [
      "7150\n"
     ]
    }
   ],
   "source": [
    "# 2. Find out your total expense in first quarter (first three months) of the year\n",
    "\n",
    "print(expenses[\"January\"] + expenses[\"February\"]+ expenses[\"March\"])"
   ]
  },
  {
   "cell_type": "code",
   "execution_count": 20,
   "id": "7beebfde-5f27-4f44-b47f-0096fdffeb00",
   "metadata": {},
   "outputs": [
    {
     "name": "stdout",
     "output_type": "stream",
     "text": [
      "Did I spend exactly $2000 in any month? False\n"
     ]
    }
   ],
   "source": [
    "# 3. Find out if you spent exactly 2000 dollars in any month\n",
    "\n",
    "did_spend_2000 = 2000 in expenses.values()\n",
    "print(\"Did I spend exactly $2000 in any month?\", did_spend_2000) "
   ]
  },
  {
   "cell_type": "code",
   "execution_count": 21,
   "id": "a1a2463f-6f20-46aa-b966-97d0f3bc10c0",
   "metadata": {},
   "outputs": [],
   "source": [
    "# 4. June month just finished and your expense is 1980 dollar. Add this item to our monthly expense list\n",
    "\n",
    "expenses['June'] = 1980"
   ]
  },
  {
   "cell_type": "code",
   "execution_count": 22,
   "id": "55317530-f350-46c7-8f30-bc3071e73e0f",
   "metadata": {},
   "outputs": [
    {
     "name": "stdout",
     "output_type": "stream",
     "text": [
      "{'January': 2200, 'February': 2350, 'March': 2600, 'April': 2830, 'May': 2190, 'June': 1980}\n"
     ]
    }
   ],
   "source": [
    "print(expenses)"
   ]
  },
  {
   "cell_type": "code",
   "execution_count": 23,
   "id": "6ae8c7bd-52e1-4cb1-9413-1d1015d4545a",
   "metadata": {},
   "outputs": [],
   "source": [
    "# 5. You returned an item that you bought in a month of April and got a refund of 200$. Make a correction to your monthly expense list based on this\n",
    "\n",
    "expenses.update({\n",
    "    'April':2830\n",
    "})"
   ]
  },
  {
   "cell_type": "code",
   "execution_count": 24,
   "id": "ea2d6c1f-217f-4f3c-8064-8360acccec06",
   "metadata": {},
   "outputs": [
    {
     "name": "stdout",
     "output_type": "stream",
     "text": [
      "{'January': 2200, 'February': 2350, 'March': 2600, 'April': 2830, 'May': 2190, 'June': 1980}\n"
     ]
    }
   ],
   "source": [
    "print(expenses)"
   ]
  },
  {
   "cell_type": "code",
   "execution_count": null,
   "id": "f688d05d-d3c2-4bcd-9bed-4b7032657294",
   "metadata": {},
   "outputs": [],
   "source": []
  },
  {
   "cell_type": "code",
   "execution_count": null,
   "id": "c9bbefe1-714f-4c3e-8248-6da38d8f3005",
   "metadata": {},
   "outputs": [],
   "source": []
  },
  {
   "cell_type": "markdown",
   "id": "f180deb0-0cbf-4266-85a7-3ceeecfae002",
   "metadata": {},
   "source": [
    "##### 2. You have a list of your favourite marvel super heros.\n",
    "\n",
    "`heros=['spider man','thor','hulk','iron man','captain america']`\n",
    "\n"
   ]
  },
  {
   "cell_type": "code",
   "execution_count": 26,
   "id": "fccbebe6-b277-4aff-8154-89e2a12f8c06",
   "metadata": {},
   "outputs": [],
   "source": [
    "heros = ['spidar man', 'thor', 'hulk', 'iron man', 'captain america']"
   ]
  },
  {
   "cell_type": "code",
   "execution_count": 28,
   "id": "ad27c4f8-e0f5-49c8-bca4-dbf3f4946242",
   "metadata": {},
   "outputs": [
    {
     "name": "stdout",
     "output_type": "stream",
     "text": [
      "5\n"
     ]
    }
   ],
   "source": [
    "# 1. Length of the list\n",
    "\n",
    "print(len(heros))"
   ]
  },
  {
   "cell_type": "code",
   "execution_count": 29,
   "id": "6ed5b219-9a15-4c46-a2e8-68293febc16b",
   "metadata": {},
   "outputs": [
    {
     "name": "stdout",
     "output_type": "stream",
     "text": [
      "['spidar man', 'thor', 'hulk', 'iron man', 'captain america', 'Black Panther']\n"
     ]
    }
   ],
   "source": [
    "#2. Add 'black panther' at the end of this list\n",
    "\n",
    "heros.append('Black Panther')\n",
    "print(heros)"
   ]
  },
  {
   "cell_type": "code",
   "execution_count": 30,
   "id": "b4eddd1d-3d50-4b1d-9f18-563c0e2c47c5",
   "metadata": {},
   "outputs": [
    {
     "name": "stdout",
     "output_type": "stream",
     "text": [
      "['spidar man', 'thor', 'hulk', 'black panther', 'iron man', 'captain america']\n"
     ]
    }
   ],
   "source": [
    "# 3. You realize that you need to add 'black panther' after 'hulk', so remove it from the list first and then add it after 'hulk'\n",
    "\n",
    "heros.remove('Black Panther')\n",
    "heros.insert(3,'black panther')\n",
    "print(heros)\n"
   ]
  },
  {
   "cell_type": "code",
   "execution_count": 31,
   "id": "72858cdd-101d-48b3-81cd-704284ab0e82",
   "metadata": {},
   "outputs": [
    {
     "name": "stdout",
     "output_type": "stream",
     "text": [
      "['spidar man', 'doctor strange', 'black panther', 'iron man', 'captain america']\n"
     ]
    }
   ],
   "source": [
    "#4. Now you don't like thor and hulk because they get angry easily :) So you want to remove thor and hulk from list and replace them with doctor strange (because he is cool). Do that with one line of code.\n",
    "\n",
    "heros[1:3]=['doctor strange']\n",
    "print(heros)"
   ]
  },
  {
   "cell_type": "code",
   "execution_count": 32,
   "id": "05abc5ce-f38c-447d-b377-5ddfebef10d8",
   "metadata": {},
   "outputs": [
    {
     "name": "stdout",
     "output_type": "stream",
     "text": [
      "['black panther', 'captain america', 'doctor strange', 'iron man', 'spidar man']\n"
     ]
    }
   ],
   "source": [
    "# 5. Sort the list in alphabetical order\n",
    "heros.sort()\n",
    "print(heros)"
   ]
  },
  {
   "cell_type": "code",
   "execution_count": null,
   "id": "b4df0959-285f-4fd3-97fe-96e496b3245e",
   "metadata": {},
   "outputs": [],
   "source": []
  },
  {
   "cell_type": "code",
   "execution_count": null,
   "id": "7e5d5a7d-bf52-44c2-bc06-8df9bbdffa46",
   "metadata": {},
   "outputs": [],
   "source": []
  },
  {
   "cell_type": "code",
   "execution_count": null,
   "id": "804e5389-4008-4d98-81d9-2463baa2aebd",
   "metadata": {},
   "outputs": [],
   "source": []
  },
  {
   "cell_type": "markdown",
   "id": "cedbc441-ef37-4694-b29c-bc4269ca1867",
   "metadata": {},
   "source": [
    "##### 3. Create a list of all odd numbers between 1 and a max number. Max number is something you need to take from a user using input() function\n"
   ]
  },
  {
   "cell_type": "code",
   "execution_count": 33,
   "id": "df62c9c6-c26a-4dbb-bc8d-f2d74eda4f19",
   "metadata": {},
   "outputs": [
    {
     "name": "stdin",
     "output_type": "stream",
     "text": [
      "Enter the max number :  24\n"
     ]
    },
    {
     "name": "stdout",
     "output_type": "stream",
     "text": [
      "Odd_numbers : [1, 3, 5, 7, 9, 11, 13, 15, 17, 19, 21, 23]\n"
     ]
    }
   ],
   "source": [
    "max = int(input('Enter the max number : '))\n",
    "\n",
    "odd_numbers = []\n",
    "\n",
    "for i in range(1, max):\n",
    "    if i%2 == 1:\n",
    "      odd_numbers.append(i)\n",
    "\n",
    "print(\"Odd_numbers :\", odd_numbers)"
   ]
  },
  {
   "cell_type": "code",
   "execution_count": null,
   "id": "b583a21b-4e5b-43ac-87de-e94ff77e767a",
   "metadata": {},
   "outputs": [],
   "source": []
  }
 ],
 "metadata": {
  "kernelspec": {
   "display_name": "Python 3 (ipykernel)",
   "language": "python",
   "name": "python3"
  },
  "language_info": {
   "codemirror_mode": {
    "name": "ipython",
    "version": 3
   },
   "file_extension": ".py",
   "mimetype": "text/x-python",
   "name": "python",
   "nbconvert_exporter": "python",
   "pygments_lexer": "ipython3",
   "version": "3.8.18"
  }
 },
 "nbformat": 4,
 "nbformat_minor": 5
}
