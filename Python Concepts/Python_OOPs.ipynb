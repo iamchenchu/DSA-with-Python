{
 "cells": [
  {
   "cell_type": "markdown",
   "id": "dca26825-7e55-4846-b626-40b8047ee480",
   "metadata": {},
   "source": [
    "### Python OOP's \n",
    "- Classes and objects\n",
    "- Attributes and methods\n",
    "- Inheritance\n",
    "- Encapsulation"
   ]
  },
  {
   "cell_type": "code",
   "execution_count": null,
   "id": "3d61f908-89cf-4d46-bb15-ddb65b9b8e5d",
   "metadata": {},
   "outputs": [],
   "source": [
    "# Class Definition : Blueprint of an Object and it contains all the methods of the object that we create using the blueprint\n",
    "\n",
    "class Car:\n",
    "    def __init__(self, brand, model, year):\n",
    "        self.brand = brand\n",
    "        self.model = model \n",
    "        self.year = year\n",
    "        self._milage = 0 # Protected Attribute\n",
    "\n",
    "    def drive(self, milage):\n",
    "        self._milage += miles\n",
    "        return f\"Driven {miles} miles\"\n",
    "\n",
    "    def get_info(self):\n",
    "        return f\"{self.year} {self.brand} {self.model}\"\n",
    "\n",
    "\n",
    "class ElectricCar(Car):\n",
    "    def __init__(self, brand, model, year, battery_size):\n",
    "        super().__init__(brand, model, year)\n",
    "        self.battery_size = battery_size\n",
    "\n",
    "    def charge(self):\n",
    "        return \"Charging the battery...\"\n",
    "\n",
    "\n",
    "#Usage \n",
    "my_car = ElectricCar(\"Tesla\", \"Model 3\", 2024, 75)\n",
    "print()\n",
    "        \n",
    "        \n",
    "    "
   ]
  }
 ],
 "metadata": {
  "kernelspec": {
   "display_name": "Python 3 (ipykernel)",
   "language": "python",
   "name": "python3"
  },
  "language_info": {
   "codemirror_mode": {
    "name": "ipython",
    "version": 3
   },
   "file_extension": ".py",
   "mimetype": "text/x-python",
   "name": "python",
   "nbconvert_exporter": "python",
   "pygments_lexer": "ipython3",
   "version": "3.8.18"
  }
 },
 "nbformat": 4,
 "nbformat_minor": 5
}
