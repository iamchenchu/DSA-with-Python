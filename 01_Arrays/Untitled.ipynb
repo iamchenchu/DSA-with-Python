{
 "cells": [
  {
   "cell_type": "code",
   "execution_count": null,
   "id": "614b7340-d86f-4f48-ae34-e7d535a13cf7",
   "metadata": {},
   "outputs": [],
   "source": [
    "class Node:\n",
    "    def __init__(self, data):\n",
    "        self.data = data     #Data Attribute\n",
    "        self.next = None     # Next Node Referece\n",
    "\n",
    "\n",
    "\n",
    "class SingleLinkedlist:\n",
    "    def __init__(self):\n",
    "        self.head = None      # Initially empty list\n",
    "\n",
    "    def insert_at_end(self, data):\n",
    "        new_node = Node(data)\n",
    "        if self.head = None:\n",
    "            self.head = new_node\n",
    "            return \n",
    "        last = self.head\n",
    "        while last.next:\n",
    "            last = last.next\n",
    "        last.next = new_node\n",
    "\n",
    "    def print_list(self):\n",
    "        temp = self.head\n",
    "        while temp:\n",
    "            \n",
    "            \n",
    "            \n",
    "            \n",
    "        \n",
    "        \n",
    "        \n",
    "        \n",
    "\n",
    "\n"
   ]
  }
 ],
 "metadata": {
  "kernelspec": {
   "display_name": "Python 3 (ipykernel)",
   "language": "python",
   "name": "python3"
  },
  "language_info": {
   "codemirror_mode": {
    "name": "ipython",
    "version": 3
   },
   "file_extension": ".py",
   "mimetype": "text/x-python",
   "name": "python",
   "nbconvert_exporter": "python",
   "pygments_lexer": "ipython3",
   "version": "3.8.18"
  }
 },
 "nbformat": 4,
 "nbformat_minor": 5
}
