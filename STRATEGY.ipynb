{
 "cells": [
  {
   "cell_type": "markdown",
   "id": "07187837-8162-4e8d-a93c-5220f71d732a",
   "metadata": {},
   "source": [
    "### 3 Pillers OF DSA\n",
    "\n",
    "1. Data Structures\n",
    "   * Linear : Arrays, linked list, stacks, queues, hash tables\n",
    "   * Non-linear : Trees, Binary Search Trees, Heaps, Graphs, Trie, Union-Find\n",
    "2. Algorithms\n",
    "   * Sorting, Binary search, Bit Manipulation, in-order, pre-order, post-order, level-order, DFS/BFS, Topological sort, Dijkstra, Bellman ford, \n",
    "3. Problem solving techniques\n",
    "   * Two Pointers, Sliding window, prefix sum, fast and slow pointers, devide and conquer, greedy, recursion, backtracking, dynamic programming, top k elements, segment trees\n",
    "   \n",
    "\n",
    "__STRATEGY TO MASTER DSA__\n",
    "\n",
    "    * Have clarity on time complexity and space complexity\n",
    "    * Learn only one topic at a time which make learning easy\n",
    "    * Right Order to learn is img \n",
    "        - Arrays\n",
    "        _ Linked List\n",
    "        - Stacks and queues \n",
    "        - Hash Tables\n",
    "        - Two pointers/sliding window\n",
    "        - Recursion/Back Tracking\n",
    "        - Sorting\n",
    "        - Searching\n",
    "        - Bit Manipulation\n",
    "        - Tree/BST/Trie\n",
    "        - Heaps\n",
    "        - Greedy\n",
    "        - Dynamic Programming\n",
    "        - Graphs/Union Find\n",
    "    * How to Learn a new topic \n",
    "        - Start with basics : what it is, how to represent in code, what are the operations you can perform on it, time/space complexity\n",
    "        - Learn Real world Applications\n",
    "        - Use pen and paper : best way to visualize them on paper and understand, dry run the code \n",
    "        - After understanding it carefully, implement it from the scratch \n",
    "        - Learn inbuilt libraries\n",
    "    * Solve easy problems \n",
    "        \n",
    "\n",
    "       "
   ]
  },
  {
   "cell_type": "code",
   "execution_count": null,
   "id": "60199291-8928-4a7b-83ed-79964aef1565",
   "metadata": {},
   "outputs": [],
   "source": []
  },
  {
   "cell_type": "code",
   "execution_count": null,
   "id": "1c048a59-b9f6-43b1-aed1-c21b5a709cfe",
   "metadata": {},
   "outputs": [],
   "source": []
  },
  {
   "cell_type": "code",
   "execution_count": null,
   "id": "e19e74b7-7b1e-4a8d-ad37-74efd2f20a3a",
   "metadata": {},
   "outputs": [],
   "source": []
  }
 ],
 "metadata": {
  "kernelspec": {
   "display_name": "Python 3 (ipykernel)",
   "language": "python",
   "name": "python3"
  },
  "language_info": {
   "codemirror_mode": {
    "name": "ipython",
    "version": 3
   },
   "file_extension": ".py",
   "mimetype": "text/x-python",
   "name": "python",
   "nbconvert_exporter": "python",
   "pygments_lexer": "ipython3",
   "version": "3.8.18"
  }
 },
 "nbformat": 4,
 "nbformat_minor": 5
}
