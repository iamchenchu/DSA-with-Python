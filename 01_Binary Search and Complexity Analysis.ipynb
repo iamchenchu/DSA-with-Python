{
 "cells": [
  {
   "cell_type": "markdown",
   "id": "267eeabd-065a-4719-ad28-e305750fd6e4",
   "metadata": {
    "editable": true,
    "slideshow": {
     "slide_type": ""
    },
    "tags": []
   },
   "source": [
    "## Problem \n",
    "\n",
    "This course takes a coding-focused approach towards learning. In each notebook, we'll focus on solving one problem, and learn the techniques, algorithms, and data structures to devise an *efficient* solution. We will then generalize the technique and apply it to other problems.\n",
    "\n",
    "\n",
    "In this notebook, we focus on solving the following problem:\n",
    "\n",
    "> **QUESTION 1:** Alice has some cards with numbers written on them. She arranges the cards in decreasing order, and lays them out face down in a sequence on a table. She challenges Bob to pick out the card containing a given number by turning over as few cards as possible. Write a function to help Bob locate the card.\n",
    "\n",
    "<img src=\"https://i.imgur.com/mazym6s.png\" width=\"480\">\n",
    "\n",
    "This may seem like a simple problem, especially if you're familiar with the concept of _binary search_, but the strategy and technique we learning here will be widely applicable, and we'll soon use it to solve harder problems."
   ]
  },
  {
   "cell_type": "markdown",
   "id": "95b2e76f-47e2-43a3-8d80-cac1721724ea",
   "metadata": {
    "editable": true,
    "slideshow": {
     "slide_type": ""
    },
    "tags": []
   },
   "source": [
    "## The Method\n",
    "\n",
    "Upon reading the problem, you may get some ideas on how to solve it and your first instinct might be to start writing code. This is not the optimal strategy and you may end up spending a longer time trying to solve the problem due to coding errors, or may not be able to solve it at all.\n",
    "\n",
    "Here's a systematic strategy we'll apply for solving problems:\n",
    "\n",
    "1. State the problem clearly. Identify the input & output formats.\n",
    "2. Come up with some example inputs & outputs. Try to cover all edge cases.\n",
    "3. Come up with a correct solution for the problem. State it in plain English.\n",
    "4. Implement the solution and test it using example inputs. Fix bugs, if any.\n",
    "5. Analyze the algorithm's complexity and identify inefficiencies, if any.\n",
    "6. Apply the right technique to overcome the inefficiency. Repeat steps 3 to 6.\n",
    "\n",
    "_\"Applying the right technique\"_ is where the knowledge of common data structures and algorithms comes in handy. \n",
    "\n",
    "Use this template for solving problems by applying this method: https://jovian.ai/aakashns/python-problem-solving-template"
   ]
  },
  {
   "cell_type": "markdown",
   "id": "8ab726fa-a6a0-4da0-86f2-450c84dee62a",
   "metadata": {},
   "source": [
    "### 3 Pillers OF DSA\n",
    "\n",
    "1. Data Structures\n",
    "   * Linear : Arrays, linked list, stacks, queues, hash tables\n",
    "   * Non-linear : Trees, Binary Search Trees, Heaps, Graphs, Trie, Union-Find\n",
    "2. Algorithms\n",
    "   * Sorting, Binary search, Bit Manipulation, in-order, pre-order, post-order, level-order, DFS/BFS, Topological sort, Dijkstra, Bellman ford, \n",
    "3. Problem solving techniques\n",
    "   * Two Pointers, Sliding window, prefix sum, fast and slow pointers, devide and conquer, greedy, recursion, backtracking, dynamic programming, top k elements, segment trees\n",
    "   \n",
    "\n",
    "__STRATEGY TO MASTER DSA__\n",
    "\n",
    "    * Have clarity on time complexity and space complexity\n",
    "    * Learn only one topic at a time which make learning easy\n",
    "    * Right Order to learn is img \n",
    "        - Arrays\n",
    "        _ Linked List\n",
    "        - Stacks and queues \n",
    "        - Hash Tables\n",
    "        - Two pointers/sliding window\n",
    "        - Recursion/Back Tracking\n",
    "        - Sorting\n",
    "        - Searching\n",
    "        - Bit Manipulation\n",
    "        - Tree/BST/Trie\n",
    "        - Heaps\n",
    "        - Greedy\n",
    "        - Dynamic Programming\n",
    "        - Graphs/Union Find\n",
    "    * How to Learn a new topic \n",
    "        - Start with basics : what it is, how to represent in code, what are the operations you can perform on it, time/space complexity\n",
    "        - Learn Real world Applications\n",
    "        - Use pen and paper : best way to visualize them on paper and understand, dry run the code \n",
    "        - After understanding it carefully, implement it from the scratch \n",
    "        - Learn inbuilt libraries\n",
    "    * Solve easy problems \n",
    "        \n",
    "\n",
    "       "
   ]
  },
  {
   "cell_type": "markdown",
   "id": "0d64bc28-6a0a-4783-9841-9ca72cca0dba",
   "metadata": {},
   "source": [
    "#### Calculate the number of days between two dates, the second date should not be less than the first one"
   ]
  },
  {
   "cell_type": "code",
   "execution_count": 1,
   "id": "7c0c2195-39ee-4f2e-813b-58baf83ac110",
   "metadata": {},
   "outputs": [],
   "source": [
    "def nextDay(year, month, day):\n",
    "    if day < daysInMonth(year, month):\n",
    "        return year, month + 1, 1\n",
    "    else:\n",
    "        if month < 12:\n",
    "            return year, month+1, 1\n",
    "        else:\n",
    "            return year+1, 1, 1\n",
    "\n",
    "def daysInMonth(year, month):\n",
    "    return 30\n",
    "\n",
    "def dateIsBefore(year1, month1, day1, year2, month2, day2):\n",
    "    \"\"\" Returns True if year1, month1, day1 is before year2, month2, day2\n",
    "    Otherwise return false\n",
    "    \"\"\"\n",
    "    if year1 < year 2:\n",
    "        return True\n",
    "    if year1 == year2:\n",
    "        if month1 < month2:\n",
    "            return True \n",
    "        if month1 == month2:\n",
    "            return day1 < day2\n",
    "    return False \n",
    "    \n",
    "    \n",
    "\n"
   ]
  },
  {
   "cell_type": "code",
   "execution_count": 1,
   "id": "2ed15257-0778-4397-93ee-959f72c9766d",
   "metadata": {},
   "outputs": [
    {
     "ename": "NameError",
     "evalue": "name 'daysBetweenDates' is not defined",
     "output_type": "error",
     "traceback": [
      "\u001b[0;31m---------------------------------------------------------------------------\u001b[0m",
      "\u001b[0;31mNameError\u001b[0m                                 Traceback (most recent call last)",
      "Cell \u001b[0;32mIn[1], line 10\u001b[0m\n\u001b[1;32m      7\u001b[0m     \u001b[38;5;28;01massert\u001b[39;00m nextDay(\u001b[38;5;241m2012\u001b[39m, \u001b[38;5;241m12\u001b[39m, \u001b[38;5;241m31\u001b[39m) \u001b[38;5;241m==\u001b[39m (\u001b[38;5;241m2013\u001b[39m, \u001b[38;5;241m1\u001b[39m, \u001b[38;5;241m1\u001b[39m)\n\u001b[1;32m      8\u001b[0m     \u001b[38;5;28mprint\u001b[39m(\u001b[38;5;124m\"\u001b[39m\u001b[38;5;124mTests finished.\u001b[39m\u001b[38;5;124m\"\u001b[39m)\n\u001b[0;32m---> 10\u001b[0m \u001b[43mtest\u001b[49m\u001b[43m(\u001b[49m\u001b[43m)\u001b[49m\n",
      "Cell \u001b[0;32mIn[1], line 3\u001b[0m, in \u001b[0;36mtest\u001b[0;34m()\u001b[0m\n\u001b[1;32m      1\u001b[0m \u001b[38;5;28;01mdef\u001b[39;00m \u001b[38;5;21mtest\u001b[39m():\n\u001b[1;32m      2\u001b[0m \u001b[38;5;66;03m#tests with 30-day months!\u001b[39;00m\n\u001b[0;32m----> 3\u001b[0m     \u001b[38;5;28;01massert\u001b[39;00m \u001b[43mdaysBetweenDates\u001b[49m(\u001b[38;5;241m2013\u001b[39m, \u001b[38;5;241m1\u001b[39m, \u001b[38;5;241m1\u001b[39m, \u001b[38;5;241m2013\u001b[39m, \u001b[38;5;241m1\u001b[39m, \u001b[38;5;241m1\u001b[39m) \u001b[38;5;241m==\u001b[39m \u001b[38;5;241m0\u001b[39m\n\u001b[1;32m      4\u001b[0m     \u001b[38;5;28;01massert\u001b[39;00m daysBetweenDates(\u001b[38;5;241m2013\u001b[39m, \u001b[38;5;241m1\u001b[39m, \u001b[38;5;241m1\u001b[39m, \u001b[38;5;241m2013\u001b[39m, \u001b[38;5;241m1\u001b[39m, \u001b[38;5;241m2\u001b[39m) \u001b[38;5;241m==\u001b[39m \u001b[38;5;241m1\u001b[39m   \n\u001b[1;32m      5\u001b[0m     \u001b[38;5;28;01massert\u001b[39;00m nextDay(\u001b[38;5;241m2013\u001b[39m, \u001b[38;5;241m1\u001b[39m, \u001b[38;5;241m1\u001b[39m) \u001b[38;5;241m==\u001b[39m (\u001b[38;5;241m2013\u001b[39m, \u001b[38;5;241m1\u001b[39m, \u001b[38;5;241m2\u001b[39m)\n",
      "\u001b[0;31mNameError\u001b[0m: name 'daysBetweenDates' is not defined"
     ]
    }
   ],
   "source": [
    "def test():\n",
    "#tests with 30-day months!\n",
    "    assert daysBetweenDates(2013, 1, 1, 2013, 1, 1) == 0\n",
    "    assert daysBetweenDates(2013, 1, 1, 2013, 1, 2) == 1   \n",
    "    assert nextDay(2013, 1, 1) == (2013, 1, 2)\n",
    "    assert nextDay(2013, 4, 30) == (2013, 5, 1)\n",
    "    assert nextDay(2012, 12, 31) == (2013, 1, 1)\n",
    "    print(\"Tests finished.\")\n",
    "    \n",
    "test()"
   ]
  },
  {
   "cell_type": "code",
   "execution_count": null,
   "id": "89c18d8e-2709-4391-9468-c6afbb83ab18",
   "metadata": {},
   "outputs": [],
   "source": []
  }
 ],
 "metadata": {
  "kernelspec": {
   "display_name": "Python 3 (ipykernel)",
   "language": "python",
   "name": "python3"
  },
  "language_info": {
   "codemirror_mode": {
    "name": "ipython",
    "version": 3
   },
   "file_extension": ".py",
   "mimetype": "text/x-python",
   "name": "python",
   "nbconvert_exporter": "python",
   "pygments_lexer": "ipython3",
   "version": "3.8.18"
  }
 },
 "nbformat": 4,
 "nbformat_minor": 5
}
