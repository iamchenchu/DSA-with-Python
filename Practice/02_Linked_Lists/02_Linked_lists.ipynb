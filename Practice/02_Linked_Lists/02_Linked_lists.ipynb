{
 "cells": [
  {
   "cell_type": "markdown",
   "id": "0230e3ca-8e03-4363-8ffa-4b9f5b91cd7a",
   "metadata": {},
   "source": [
    "### Linked Lists "
   ]
  },
  {
   "cell_type": "code",
   "execution_count": null,
   "id": "c23f05b5-302a-4f20-b9b5-12566cb10843",
   "metadata": {},
   "outputs": [],
   "source": []
  }
 ],
 "metadata": {
  "kernelspec": {
   "display_name": "Python 3 (ipykernel)",
   "language": "python",
   "name": "python3"
  },
  "language_info": {
   "codemirror_mode": {
    "name": "ipython",
    "version": 3
   },
   "file_extension": ".py",
   "mimetype": "text/x-python",
   "name": "python",
   "nbconvert_exporter": "python",
   "pygments_lexer": "ipython3",
   "version": "3.8.18"
  }
 },
 "nbformat": 4,
 "nbformat_minor": 5
}
