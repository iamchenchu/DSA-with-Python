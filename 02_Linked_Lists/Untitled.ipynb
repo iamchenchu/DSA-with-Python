{
 "cells": [
  {
   "cell_type": "code",
   "execution_count": 2,
   "id": "3da4c3c6-41b2-4c73-b820-91333407768a",
   "metadata": {},
   "outputs": [
    {
     "name": "stdout",
     "output_type": "stream",
     "text": [
      "tensor([[1, 2, 3],\n",
      "        [4, 5, 6]])\n",
      "torch.Size([2, 3])\n",
      "torch.int64\n",
      "cpu\n"
     ]
    }
   ],
   "source": [
    "import torch \n",
    "\n",
    "#Create a tensor from list \n",
    "lst = [[1, 2, 3], [4, 5, 6]]\n",
    "tensor = torch.tensor(lst)\n",
    "\n",
    "#Create a tensor from a Numpy Array \n",
    "import numpy as np \n",
    "np_array = np.array([[1, 2, 3], [4, 5, 6]])\n",
    "np_tensor = torch.from_numpy(np_array)\n",
    "\n",
    "\n",
    "print(tensor)\n",
    "print(tensor.shape)\n",
    "print(tensor.dtype)\n",
    "print(tensor.device)"
   ]
  },
  {
   "cell_type": "code",
   "execution_count": 3,
   "id": "faccb65b-b749-434f-996b-cb6f5bd18d36",
   "metadata": {},
   "outputs": [
    {
     "name": "stdout",
     "output_type": "stream",
     "text": [
      "tensor([[1, 2, 3],\n",
      "        [4, 5, 6]])\n",
      "torch.Size([2, 3])\n",
      "torch.int64\n",
      "cpu\n"
     ]
    }
   ],
   "source": [
    "print(np_tensor)\n",
    "print(np_tensor.shape)\n",
    "print(np_tensor.dtype)\n",
    "print(np_tensor.device)"
   ]
  },
  {
   "cell_type": "code",
   "execution_count": null,
   "id": "ea637045-cee8-4ff8-a1ce-71e8ccb28d15",
   "metadata": {},
   "outputs": [],
   "source": []
  }
 ],
 "metadata": {
  "kernelspec": {
   "display_name": "Python 3 (ipykernel)",
   "language": "python",
   "name": "python3"
  },
  "language_info": {
   "codemirror_mode": {
    "name": "ipython",
    "version": 3
   },
   "file_extension": ".py",
   "mimetype": "text/x-python",
   "name": "python",
   "nbconvert_exporter": "python",
   "pygments_lexer": "ipython3",
   "version": "3.8.18"
  }
 },
 "nbformat": 4,
 "nbformat_minor": 5
}
