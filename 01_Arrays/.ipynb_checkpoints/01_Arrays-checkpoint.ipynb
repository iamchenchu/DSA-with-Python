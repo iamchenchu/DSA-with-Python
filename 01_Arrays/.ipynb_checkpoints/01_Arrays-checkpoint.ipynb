{
 "cells": [
  {
   "cell_type": "markdown",
   "id": "4bd96c87-4272-4a55-b485-8db4de56684d",
   "metadata": {},
   "source": [
    "##### 1. Let us say your expense for every month are listed below,\n",
    "##### \t  1. January -  2200\n",
    "  3. March - 2600\n",
    "  4. April - 2130\n",
    "    5. May - 2190\n",
    "##### Create a list to store these monthly expenses and using that find out,\n",
    "##### 1. In Feb, how many dollars you spent extra compare to January?\n",
    "##### 2. Find out your total expense in first quarter (first three months) of the year.\n",
    "##### 3. Find out if you spent exactly 2000 dollars in any month\n",
    "##### 4. June month just finished and your expense is 1980 dollar. Add this item to our monthly expense list\n",
    "##### 5. You returned an item that you bought in a month of April and got a refund of 200$. Make a correction to your monthly expense list based on this"
   ]
  },
  {
   "cell_type": "code",
   "execution_count": 2,
   "id": "e7ddf264-0b78-4abb-844b-cb7f0cfb8d05",
   "metadata": {},
   "outputs": [],
   "source": [
    "expenses = {\n",
    "    \"January\" : 2200,\n",
    "    \"February\" : 2350,\n",
    "    \"March\" : 2600,\n",
    "    \"April\":2130,\n",
    "    \"May\" : 2190\n",
    "}"
   ]
  },
  {
   "cell_type": "code",
   "execution_count": 4,
   "id": "40a6190d-99d1-43fc-abea-e24c7cd34e83",
   "metadata": {},
   "outputs": [
    {
     "name": "stdout",
     "output_type": "stream",
     "text": [
      "2200\n"
     ]
    }
   ],
   "source": [
    "print(expenses[\"January\"])"
   ]
  },
  {
   "cell_type": "code",
   "execution_count": 6,
   "id": "7ac65978-9a56-4ea6-9e89-a24fe0243b7e",
   "metadata": {},
   "outputs": [
    {
     "name": "stdout",
     "output_type": "stream",
     "text": [
      "7150\n"
     ]
    }
   ],
   "source": [
    "print(expenses[\"January\"] + expenses[\"February\"]+ expenses[\"March\"])"
   ]
  },
  {
   "cell_type": "code",
   "execution_count": 9,
   "id": "7beebfde-5f27-4f44-b47f-0096fdffeb00",
   "metadata": {},
   "outputs": [
    {
     "ename": "SyntaxError",
     "evalue": "invalid syntax (2718294879.py, line 4)",
     "output_type": "error",
     "traceback": [
      "\u001b[0;36m  Cell \u001b[0;32mIn[9], line 4\u001b[0;36m\u001b[0m\n\u001b[0;31m    else:\u001b[0m\n\u001b[0m    ^\u001b[0m\n\u001b[0;31mSyntaxError\u001b[0m\u001b[0;31m:\u001b[0m invalid syntax\n"
     ]
    }
   ],
   "source": [
    "for key, value in expenses.items():\n",
    "    if expenses[value] != 2000:\n",
    "\n",
    "        else:\n",
    "            print(\"NO\")"
   ]
  },
  {
   "cell_type": "code",
   "execution_count": 11,
   "id": "9d60c08a-2b05-4aa1-9600-b9de941aa392",
   "metadata": {},
   "outputs": [
    {
     "name": "stdout",
     "output_type": "stream",
     "text": [
      "January:2200\n",
      "February:2350\n",
      "March:2600\n",
      "April:2130\n",
      "May:2190\n"
     ]
    }
   ],
   "source": [
    "for key, value in expenses.items():\n",
    "    print(f\"{key}:{value}\")"
   ]
  },
  {
   "cell_type": "code",
   "execution_count": 12,
   "id": "a1a2463f-6f20-46aa-b966-97d0f3bc10c0",
   "metadata": {},
   "outputs": [],
   "source": [
    "expenses['June'] = 1980"
   ]
  },
  {
   "cell_type": "code",
   "execution_count": 13,
   "id": "55317530-f350-46c7-8f30-bc3071e73e0f",
   "metadata": {},
   "outputs": [
    {
     "name": "stdout",
     "output_type": "stream",
     "text": [
      "{'January': 2200, 'February': 2350, 'March': 2600, 'April': 2130, 'May': 2190, 'June': 1980}\n"
     ]
    }
   ],
   "source": [
    "print(expenses)"
   ]
  },
  {
   "cell_type": "code",
   "execution_count": 14,
   "id": "6ae8c7bd-52e1-4cb1-9413-1d1015d4545a",
   "metadata": {},
   "outputs": [],
   "source": [
    "expenses.update({\n",
    "    'April':2830\n",
    "})"
   ]
  },
  {
   "cell_type": "code",
   "execution_count": 15,
   "id": "ea2d6c1f-217f-4f3c-8064-8360acccec06",
   "metadata": {},
   "outputs": [
    {
     "name": "stdout",
     "output_type": "stream",
     "text": [
      "{'January': 2200, 'February': 2350, 'March': 2600, 'April': 2830, 'May': 2190, 'June': 1980}\n"
     ]
    }
   ],
   "source": [
    "print(expenses)"
   ]
  },
  {
   "cell_type": "code",
   "execution_count": null,
   "id": "2afeebb3-9d28-4652-8ef6-3c3abeb1364f",
   "metadata": {},
   "outputs": [],
   "source": []
  }
 ],
 "metadata": {
  "kernelspec": {
   "display_name": "Python 3 (ipykernel)",
   "language": "python",
   "name": "python3"
  },
  "language_info": {
   "codemirror_mode": {
    "name": "ipython",
    "version": 3
   },
   "file_extension": ".py",
   "mimetype": "text/x-python",
   "name": "python",
   "nbconvert_exporter": "python",
   "pygments_lexer": "ipython3",
   "version": "3.8.18"
  }
 },
 "nbformat": 4,
 "nbformat_minor": 5
}
