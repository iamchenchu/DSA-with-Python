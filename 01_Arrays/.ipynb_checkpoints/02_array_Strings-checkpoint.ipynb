{
 "cells": [
  {
   "cell_type": "markdown",
   "id": "8019ba30-e77f-4baf-8875-250a62bb49c7",
   "metadata": {},
   "source": [
    "\n",
    "In Python, strings are a fundamental data type these are arrays of bytes representing unicode charecters and can be used in various data structures to manipulate and store text. Here are some ways strings can be used in different Python data structures:\n",
    "\n",
    "trings support various operations that make them versatile for text manipulation.\n",
    "\n",
    "`Concatenation: s1 + s2`\n",
    "\n",
    "`Repetition: s * 3`\n",
    "\n",
    "`Slicing: s[1:4]`\n",
    "\n",
    "`Methods: s.upper(), s.lower(), s.split(), s.strip(), etc.`\n"
   ]
  },
  {
   "cell_type": "code",
   "execution_count": 1,
   "id": "eb0debe4-33b5-4d4d-9417-fb10cb89fdba",
   "metadata": {},
   "outputs": [
    {
     "name": "stdout",
     "output_type": "stream",
     "text": [
      "7\n",
      "udacity\n",
      "UDACITY\n",
      "dacit\n",
      "Udacit\n",
      "dacity\n",
      "y\n",
      "dacit\n"
     ]
    }
   ],
   "source": [
    "\n",
    "str1 = \"Udacity\"\n",
    " \n",
    "print(len(str1))\n",
    "\n",
    "print(str1.lower())\n",
    "print(str1.upper())\n",
    "\n",
    "#slicing \n",
    "print(str1[1:6])\n",
    "print(str1[:6])\n",
    "print(str1[1:])\n",
    "\n",
    "#negative indexing \n",
    "print(str1[-1])\n",
    "print(str1[-6:-1])\n",
    "\n"
   ]
  },
  {
   "cell_type": "code",
   "execution_count": 8,
   "id": "8d237b3b-9d3e-4103-ae2c-6d0cc9cd020d",
   "metadata": {},
   "outputs": [
    {
     "name": "stdout",
     "output_type": "stream",
     "text": [
      "13\n",
      "the string before strip()  :     udacity  \n",
      "the string after strip () : udacity\n",
      "7\n"
     ]
    }
   ],
   "source": [
    "# strip() : removes the extra space from both ends \n",
    "str2 = \"    udacity  \"\n",
    "print(len(str2))\n",
    "print(f\"the string before strip()  : {str2}\")\n",
    "str3 = str2.strip()\n",
    "print(f\"the string after strip () : {str3}\") \n",
    "print(len(str3))\n"
   ]
  },
  {
   "cell_type": "code",
   "execution_count": 9,
   "id": "66a7262d-a76a-4a1d-86b7-382139e0be84",
   "metadata": {},
   "outputs": [
    {
     "name": "stdout",
     "output_type": "stream",
     "text": [
      "Ydacity\n"
     ]
    }
   ],
   "source": [
    "# Replace \n",
    "print(str3.replace('u', 'Y'))"
   ]
  },
  {
   "cell_type": "code",
   "execution_count": 13,
   "id": "02b988a0-ea85-4630-b926-8e929cc5c76e",
   "metadata": {},
   "outputs": [
    {
     "name": "stdout",
     "output_type": "stream",
     "text": [
      "['Hello', 'Chenchu', 'welcome', 'to', 'usa']\n"
     ]
    }
   ],
   "source": [
    "str4 = \"Hello Chenchu welcome to usa\"\n",
    "string_list = str4.split(\" \")\n",
    "print(string_list)"
   ]
  },
  {
   "cell_type": "code",
   "execution_count": 14,
   "id": "01fa9f45-a2e9-461f-9061-75f9a36185da",
   "metadata": {},
   "outputs": [
    {
     "name": "stdout",
     "output_type": "stream",
     "text": [
      "Sita is perfect match for Ram\n"
     ]
    }
   ],
   "source": [
    "# concatenation \n",
    "\n",
    "str5 = \"Ram\"\n",
    "str6 = \"Sita\"\n",
    "\n",
    "print(str6 +\" is perfect match for \"+str5)"
   ]
  },
  {
   "cell_type": "code",
   "execution_count": 16,
   "id": "1149f76c-b63f-41a9-bce3-0eaf91d5f24f",
   "metadata": {},
   "outputs": [
    {
     "name": "stdout",
     "output_type": "stream",
     "text": [
      "['R', 'a', 'm']\n",
      "['S', 'a', 'i', 't']\n"
     ]
    }
   ],
   "source": [
    "# Sorting \n",
    "print(sorted(str5))\n",
    "print(sorted(str6))"
   ]
  },
  {
   "cell_type": "markdown",
   "id": "8d6e2fc4-885e-40b7-9cf2-ebfe1a56643a",
   "metadata": {},
   "source": [
    "### Excercise 1:\n",
    "\n",
    "In this first exercise, the goal is to write a function that takes a string as input and then returns the reversed string.\n",
    "\n",
    "For example, if the input is the string `\"water\"`, then the output should be `\"retaw\"`.\n",
    "\n",
    "While you're working on the function and trying to figure out how to manipulate the string, it may help to use the `print` statement so you can see the effects of whatever you're trying.\n",
    "\n",
    "Note - You can use built-in method `len()` on the string. \n"
   ]
  },
  {
   "cell_type": "code",
   "execution_count": 18,
   "id": "d3ee3ecc-f471-4e5b-bc5b-c8b584a50b45",
   "metadata": {},
   "outputs": [
    {
     "ename": "IndexError",
     "evalue": "string index out of range",
     "output_type": "error",
     "traceback": [
      "\u001b[0;31m---------------------------------------------------------------------------\u001b[0m",
      "\u001b[0;31mIndexError\u001b[0m                                Traceback (most recent call last)",
      "Cell \u001b[0;32mIn[18], line 13\u001b[0m\n\u001b[1;32m     10\u001b[0m         new_str\u001b[38;5;241m+\u001b[39m\u001b[38;5;241m=\u001b[39m(our_string[\u001b[38;5;28mlen\u001b[39m(our_string)\u001b[38;5;241m-\u001b[39mi])\n\u001b[1;32m     11\u001b[0m     \u001b[38;5;28;01mreturn\u001b[39;00m new_string\n\u001b[0;32m---> 13\u001b[0m \u001b[43mstring_reverser\u001b[49m\u001b[43m(\u001b[49m\u001b[38;5;124;43m\"\u001b[39;49m\u001b[38;5;124;43mChenchaiah Mekalathuru\u001b[39;49m\u001b[38;5;124;43m\"\u001b[39;49m\u001b[43m)\u001b[49m\n",
      "Cell \u001b[0;32mIn[18], line 10\u001b[0m, in \u001b[0;36mstring_reverser\u001b[0;34m(our_string)\u001b[0m\n\u001b[1;32m      8\u001b[0m new_str\u001b[38;5;241m=\u001b[39m\u001b[38;5;124m'\u001b[39m\u001b[38;5;124m'\u001b[39m\n\u001b[1;32m      9\u001b[0m \u001b[38;5;28;01mfor\u001b[39;00m i \u001b[38;5;129;01min\u001b[39;00m \u001b[38;5;28mrange\u001b[39m(\u001b[38;5;28mlen\u001b[39m(our_string)):\n\u001b[0;32m---> 10\u001b[0m     new_str\u001b[38;5;241m+\u001b[39m\u001b[38;5;241m=\u001b[39m(\u001b[43mour_string\u001b[49m\u001b[43m[\u001b[49m\u001b[38;5;28;43mlen\u001b[39;49m\u001b[43m(\u001b[49m\u001b[43mour_string\u001b[49m\u001b[43m)\u001b[49m\u001b[38;5;241;43m-\u001b[39;49m\u001b[43mi\u001b[49m\u001b[43m]\u001b[49m)\n\u001b[1;32m     11\u001b[0m \u001b[38;5;28;01mreturn\u001b[39;00m new_string\n",
      "\u001b[0;31mIndexError\u001b[0m: string index out of range"
     ]
    }
   ],
   "source": [
    "def string_reverser(our_string):\n",
    "    \"\"\"Reverse the input string\n",
    "    args: \n",
    "    our_string : stirng to be reversed \n",
    "    Returns:\n",
    "    string: the reveresed string \n",
    "    \"\"\"\n",
    "    new_str=''\n",
    "    for i in range(len(our_string)):\n",
    "        new_str+=(our_string[len(our_string)-i])\n",
    "    return new_string\n",
    "\n",
    "string_reverser(\"Chenchaiah Mekalathuru\")"
   ]
  },
  {
   "cell_type": "code",
   "execution_count": null,
   "id": "9aa4ceb1-2ec8-4306-8e43-3e35bef3c53a",
   "metadata": {},
   "outputs": [],
   "source": []
  }
 ],
 "metadata": {
  "kernelspec": {
   "display_name": "Python 3 (ipykernel)",
   "language": "python",
   "name": "python3"
  },
  "language_info": {
   "codemirror_mode": {
    "name": "ipython",
    "version": 3
   },
   "file_extension": ".py",
   "mimetype": "text/x-python",
   "name": "python",
   "nbconvert_exporter": "python",
   "pygments_lexer": "ipython3",
   "version": "3.8.18"
  }
 },
 "nbformat": 4,
 "nbformat_minor": 5
}
